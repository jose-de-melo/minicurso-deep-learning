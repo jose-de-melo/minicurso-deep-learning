{
 "cells": [
  {
   "cell_type": "code",
   "execution_count": 407,
   "metadata": {},
   "outputs": [],
   "source": [
    "import pandas as pd\n",
    "from tensorflow.keras.models import Sequential\n",
    "from tensorflow.keras.layers import LSTM, Dense, Dropout\n",
    "import tensorflow\n",
    "from tensorflow.keras.callbacks import EarlyStopping, ReduceLROnPlateau\n",
    "\n",
    "import numpy as np\n",
    "from sklearn import metrics\n",
    "from sklearn.preprocessing import MinMaxScaler\n",
    "import matplotlib.pyplot as plt\n",
    "%matplotlib inline"
   ]
  },
  {
   "cell_type": "code",
   "execution_count": 408,
   "metadata": {},
   "outputs": [
    {
     "data": {
      "text/html": [
       "<div>\n",
       "<style scoped>\n",
       "    .dataframe tbody tr th:only-of-type {\n",
       "        vertical-align: middle;\n",
       "    }\n",
       "\n",
       "    .dataframe tbody tr th {\n",
       "        vertical-align: top;\n",
       "    }\n",
       "\n",
       "    .dataframe thead th {\n",
       "        text-align: right;\n",
       "    }\n",
       "</style>\n",
       "<table border=\"1\" class=\"dataframe\">\n",
       "  <thead>\n",
       "    <tr style=\"text-align: right;\">\n",
       "      <th></th>\n",
       "      <th>Date</th>\n",
       "      <th>Open</th>\n",
       "      <th>High</th>\n",
       "      <th>Low</th>\n",
       "      <th>Close</th>\n",
       "      <th>Adj Close</th>\n",
       "      <th>Volume</th>\n",
       "    </tr>\n",
       "  </thead>\n",
       "  <tbody>\n",
       "    <tr>\n",
       "      <th>0</th>\n",
       "      <td>2014-01-02</td>\n",
       "      <td>175.470001</td>\n",
       "      <td>175.470001</td>\n",
       "      <td>175.470001</td>\n",
       "      <td>175.470001</td>\n",
       "      <td>175.470001</td>\n",
       "      <td>0</td>\n",
       "    </tr>\n",
       "    <tr>\n",
       "      <th>1</th>\n",
       "      <td>2014-01-03</td>\n",
       "      <td>175.470001</td>\n",
       "      <td>175.470001</td>\n",
       "      <td>175.470001</td>\n",
       "      <td>175.470001</td>\n",
       "      <td>175.470001</td>\n",
       "      <td>0</td>\n",
       "    </tr>\n",
       "    <tr>\n",
       "      <th>2</th>\n",
       "      <td>2014-01-06</td>\n",
       "      <td>175.470001</td>\n",
       "      <td>175.470001</td>\n",
       "      <td>175.470001</td>\n",
       "      <td>175.470001</td>\n",
       "      <td>175.470001</td>\n",
       "      <td>0</td>\n",
       "    </tr>\n",
       "    <tr>\n",
       "      <th>3</th>\n",
       "      <td>2014-01-07</td>\n",
       "      <td>180.100006</td>\n",
       "      <td>180.100006</td>\n",
       "      <td>180.100006</td>\n",
       "      <td>182.070007</td>\n",
       "      <td>182.070007</td>\n",
       "      <td>200</td>\n",
       "    </tr>\n",
       "    <tr>\n",
       "      <th>4</th>\n",
       "      <td>2014-01-08</td>\n",
       "      <td>180.410004</td>\n",
       "      <td>180.410004</td>\n",
       "      <td>180.410004</td>\n",
       "      <td>179.710007</td>\n",
       "      <td>179.710007</td>\n",
       "      <td>6400</td>\n",
       "    </tr>\n",
       "  </tbody>\n",
       "</table>\n",
       "</div>"
      ],
      "text/plain": [
       "        Date        Open        High         Low       Close   Adj Close  \\\n",
       "0 2014-01-02  175.470001  175.470001  175.470001  175.470001  175.470001   \n",
       "1 2014-01-03  175.470001  175.470001  175.470001  175.470001  175.470001   \n",
       "2 2014-01-06  175.470001  175.470001  175.470001  175.470001  175.470001   \n",
       "3 2014-01-07  180.100006  180.100006  180.100006  182.070007  182.070007   \n",
       "4 2014-01-08  180.410004  180.410004  180.410004  179.710007  179.710007   \n",
       "\n",
       "   Volume  \n",
       "0       0  \n",
       "1       0  \n",
       "2       0  \n",
       "3     200  \n",
       "4    6400  "
      ]
     },
     "execution_count": 408,
     "metadata": {},
     "output_type": "execute_result"
    }
   ],
   "source": [
    "df = pd.read_csv('data/acoes/DISB34.SA.csv', parse_dates=['Date'])\n",
    "df = df.dropna()\n",
    "\n",
    "\n",
    "df.head()"
   ]
  },
  {
   "cell_type": "code",
   "execution_count": 409,
   "metadata": {},
   "outputs": [],
   "source": [
    "df = df.set_index('Date')"
   ]
  },
  {
   "cell_type": "code",
   "execution_count": 410,
   "metadata": {},
   "outputs": [],
   "source": [
    "train = df[:'2018']\n",
    "test = df['2019':]"
   ]
  },
  {
   "cell_type": "code",
   "execution_count": 411,
   "metadata": {},
   "outputs": [
    {
     "data": {
      "text/html": [
       "<div>\n",
       "<style scoped>\n",
       "    .dataframe tbody tr th:only-of-type {\n",
       "        vertical-align: middle;\n",
       "    }\n",
       "\n",
       "    .dataframe tbody tr th {\n",
       "        vertical-align: top;\n",
       "    }\n",
       "\n",
       "    .dataframe thead th {\n",
       "        text-align: right;\n",
       "    }\n",
       "</style>\n",
       "<table border=\"1\" class=\"dataframe\">\n",
       "  <thead>\n",
       "    <tr style=\"text-align: right;\">\n",
       "      <th></th>\n",
       "      <th>Open</th>\n",
       "      <th>High</th>\n",
       "      <th>Low</th>\n",
       "      <th>Close</th>\n",
       "      <th>Adj Close</th>\n",
       "      <th>Volume</th>\n",
       "    </tr>\n",
       "    <tr>\n",
       "      <th>Date</th>\n",
       "      <th></th>\n",
       "      <th></th>\n",
       "      <th></th>\n",
       "      <th></th>\n",
       "      <th></th>\n",
       "      <th></th>\n",
       "    </tr>\n",
       "  </thead>\n",
       "  <tbody>\n",
       "    <tr>\n",
       "      <th>2018-12-20</th>\n",
       "      <td>416.980011</td>\n",
       "      <td>416.980011</td>\n",
       "      <td>413.130005</td>\n",
       "      <td>413.130005</td>\n",
       "      <td>413.130005</td>\n",
       "      <td>900</td>\n",
       "    </tr>\n",
       "    <tr>\n",
       "      <th>2018-12-21</th>\n",
       "      <td>412.000000</td>\n",
       "      <td>412.000000</td>\n",
       "      <td>411.940002</td>\n",
       "      <td>411.940002</td>\n",
       "      <td>411.940002</td>\n",
       "      <td>1000</td>\n",
       "    </tr>\n",
       "    <tr>\n",
       "      <th>2018-12-26</th>\n",
       "      <td>406.429993</td>\n",
       "      <td>406.429993</td>\n",
       "      <td>403.920013</td>\n",
       "      <td>403.920013</td>\n",
       "      <td>403.920013</td>\n",
       "      <td>800</td>\n",
       "    </tr>\n",
       "    <tr>\n",
       "      <th>2018-12-27</th>\n",
       "      <td>404.000000</td>\n",
       "      <td>404.000000</td>\n",
       "      <td>404.000000</td>\n",
       "      <td>404.000000</td>\n",
       "      <td>404.000000</td>\n",
       "      <td>100</td>\n",
       "    </tr>\n",
       "    <tr>\n",
       "      <th>2018-12-28</th>\n",
       "      <td>416.440002</td>\n",
       "      <td>417.000000</td>\n",
       "      <td>411.209991</td>\n",
       "      <td>411.209991</td>\n",
       "      <td>411.209991</td>\n",
       "      <td>500</td>\n",
       "    </tr>\n",
       "  </tbody>\n",
       "</table>\n",
       "</div>"
      ],
      "text/plain": [
       "                  Open        High         Low       Close   Adj Close  Volume\n",
       "Date                                                                          \n",
       "2018-12-20  416.980011  416.980011  413.130005  413.130005  413.130005     900\n",
       "2018-12-21  412.000000  412.000000  411.940002  411.940002  411.940002    1000\n",
       "2018-12-26  406.429993  406.429993  403.920013  403.920013  403.920013     800\n",
       "2018-12-27  404.000000  404.000000  404.000000  404.000000  404.000000     100\n",
       "2018-12-28  416.440002  417.000000  411.209991  411.209991  411.209991     500"
      ]
     },
     "execution_count": 411,
     "metadata": {},
     "output_type": "execute_result"
    }
   ],
   "source": [
    "train.tail()"
   ]
  },
  {
   "cell_type": "code",
   "execution_count": 412,
   "metadata": {},
   "outputs": [],
   "source": [
    "timesteps = 3\n",
    "\n",
    "features = ['Close']\n",
    "target = 'Close'"
   ]
  },
  {
   "cell_type": "code",
   "execution_count": 413,
   "metadata": {},
   "outputs": [
    {
     "data": {
      "text/html": [
       "<div>\n",
       "<style scoped>\n",
       "    .dataframe tbody tr th:only-of-type {\n",
       "        vertical-align: middle;\n",
       "    }\n",
       "\n",
       "    .dataframe tbody tr th {\n",
       "        vertical-align: top;\n",
       "    }\n",
       "\n",
       "    .dataframe thead th {\n",
       "        text-align: right;\n",
       "    }\n",
       "</style>\n",
       "<table border=\"1\" class=\"dataframe\">\n",
       "  <thead>\n",
       "    <tr style=\"text-align: right;\">\n",
       "      <th></th>\n",
       "      <th>Close</th>\n",
       "    </tr>\n",
       "  </thead>\n",
       "  <tbody>\n",
       "    <tr>\n",
       "      <th>0</th>\n",
       "      <td>0.017355</td>\n",
       "    </tr>\n",
       "    <tr>\n",
       "      <th>1</th>\n",
       "      <td>0.017355</td>\n",
       "    </tr>\n",
       "    <tr>\n",
       "      <th>2</th>\n",
       "      <td>0.017355</td>\n",
       "    </tr>\n",
       "    <tr>\n",
       "      <th>3</th>\n",
       "      <td>0.039298</td>\n",
       "    </tr>\n",
       "    <tr>\n",
       "      <th>4</th>\n",
       "      <td>0.031452</td>\n",
       "    </tr>\n",
       "  </tbody>\n",
       "</table>\n",
       "</div>"
      ],
      "text/plain": [
       "      Close\n",
       "0  0.017355\n",
       "1  0.017355\n",
       "2  0.017355\n",
       "3  0.039298\n",
       "4  0.031452"
      ]
     },
     "execution_count": 413,
     "metadata": {},
     "output_type": "execute_result"
    }
   ],
   "source": [
    "scaler_features = MinMaxScaler((0,1))\n",
    "\n",
    "train_norm = pd.DataFrame(\n",
    "    data = scaler_features.fit_transform(train[features]),\n",
    "    columns = features\n",
    ")\n",
    "\n",
    "\n",
    "test_norm = pd.DataFrame(\n",
    "    data = scaler_features.transform(test[features]),\n",
    "    columns = features\n",
    ")\n",
    "\n",
    "train_norm.head()"
   ]
  },
  {
   "cell_type": "code",
   "execution_count": 414,
   "metadata": {},
   "outputs": [
    {
     "data": {
      "text/plain": [
       "MinMaxScaler(copy=True, feature_range=(0, 1))"
      ]
     },
     "execution_count": 414,
     "metadata": {},
     "output_type": "execute_result"
    }
   ],
   "source": [
    "scaler_target = MinMaxScaler((0,1))\n",
    "\n",
    "scaler_target.fit(train[[target]])"
   ]
  },
  {
   "cell_type": "code",
   "execution_count": 415,
   "metadata": {},
   "outputs": [],
   "source": [
    "\n",
    "def transformar_dados_para_RNN(df, timesteps, colunas, target, append_before=None):\n",
    "    '''Parâmetros\n",
    "       -----------\n",
    "        df : DataFrame que será tansformado.\n",
    "        timesteps : Número de amostras que serão utilizadas. Amostras anteriores à cada previsão.\n",
    "        colunas : Nomes das colunas do DataFrame que serão utilizadas.\n",
    "        target : Nome do coluna que será prevista.\n",
    "        append_before : DataFrame que será utilizado para extrair N amostras anteriores ao 'df'.\n",
    "    '''\n",
    "    \n",
    "    if append_before is not None:\n",
    "        df_append = append_before\n",
    "        n_amostra = df_append.shape[0] - timesteps\n",
    "        df = pd.concat(\n",
    "            objs= (df_append.iloc[n_amostra:], df),\n",
    "            axis= 0\n",
    "        )\n",
    "    \n",
    "    previsores = []\n",
    "    valores_target = []\n",
    "\n",
    "    for i in range (timesteps, df.shape[0]):\n",
    "        previsores.append( np.matrix(df.iloc[i-timesteps:i][colunas] ))\n",
    "        valores_target.append( df[target].iloc[i] )\n",
    "        \n",
    "    return np.array(previsores), np.array(valores_target)"
   ]
  },
  {
   "cell_type": "code",
   "execution_count": 416,
   "metadata": {},
   "outputs": [
    {
     "data": {
      "text/plain": [
       "(array([[[0.01735488],\n",
       "         [0.01735488],\n",
       "         [0.01735488]],\n",
       " \n",
       "        [[0.01735488],\n",
       "         [0.01735488],\n",
       "         [0.03929785]],\n",
       " \n",
       "        [[0.01735488],\n",
       "         [0.03929785],\n",
       "         [0.03145158]],\n",
       " \n",
       "        ...,\n",
       " \n",
       "        [[0.86717863],\n",
       "         [0.80750052],\n",
       "         [0.80354413]],\n",
       " \n",
       "        [[0.80750052],\n",
       "         [0.80354413],\n",
       "         [0.77688016]],\n",
       " \n",
       "        [[0.80354413],\n",
       "         [0.77688016],\n",
       "         [0.77714609]]]),\n",
       " array([0.03929785, 0.03145158, 0.03145158, ..., 0.77688016, 0.77714609,\n",
       "        0.80111707]))"
      ]
     },
     "execution_count": 416,
     "metadata": {},
     "output_type": "execute_result"
    }
   ],
   "source": [
    "transformar_dados_para_RNN(train_norm, timesteps, features, target)"
   ]
  },
  {
   "cell_type": "code",
   "execution_count": 417,
   "metadata": {},
   "outputs": [],
   "source": [
    "x_train, y_train = transformar_dados_para_RNN(train_norm, timesteps, features, target)"
   ]
  },
  {
   "cell_type": "code",
   "execution_count": 418,
   "metadata": {},
   "outputs": [],
   "source": [
    "x_test, y_test = transformar_dados_para_RNN(test_norm, timesteps, features, target, append_before=train_norm)"
   ]
  },
  {
   "cell_type": "code",
   "execution_count": 419,
   "metadata": {},
   "outputs": [],
   "source": [
    "y_test = test[target]"
   ]
  },
  {
   "cell_type": "code",
   "execution_count": 420,
   "metadata": {},
   "outputs": [
    {
     "data": {
      "text/plain": [
       "Date\n",
       "2019-01-02    413.309998\n",
       "2019-01-03    405.000000\n",
       "2019-01-04    410.619995\n",
       "2019-01-07    411.910004\n",
       "2019-01-08    413.869995\n",
       "Name: Close, dtype: float64"
      ]
     },
     "execution_count": 420,
     "metadata": {},
     "output_type": "execute_result"
    }
   ],
   "source": [
    "y_test.head()"
   ]
  },
  {
   "cell_type": "code",
   "execution_count": 421,
   "metadata": {},
   "outputs": [],
   "source": [
    "np.random.seed(27)\n",
    "tensorflow.random.set_seed(27)\n",
    "\n",
    "\n",
    "\n",
    "model = Sequential()\n",
    "\n",
    "model.add( LSTM(10, return_sequences=True, input_shape = (timesteps, len(features)) , activation='linear'))\n",
    "model.add( LSTM(10, return_sequences=False))\n",
    "model.add( Dense(8, activation='relu'))\n",
    "model.add( Dense(1, activation='relu'))\n",
    "\n",
    "\n",
    "model.compile(\n",
    "    optimizer = 'rmsprop',\n",
    "    loss = 'msle', #'mean_squared_logaritm_error',\n",
    "    metrics = ['mae'] #'mean_absolute_error'\n",
    ")\n"
   ]
  },
  {
   "cell_type": "code",
   "execution_count": 422,
   "metadata": {},
   "outputs": [],
   "source": [
    "es = EarlyStopping(monitor='loss', min_delta=0.002, patience=10)\n",
    "rlr = ReduceLROnPlateau(monitor='loss', factor=0.3, patience=15)\n"
   ]
  },
  {
   "cell_type": "code",
   "execution_count": null,
   "metadata": {},
   "outputs": [],
   "source": []
  },
  {
   "cell_type": "code",
   "execution_count": null,
   "metadata": {},
   "outputs": [],
   "source": []
  },
  {
   "cell_type": "code",
   "execution_count": 423,
   "metadata": {},
   "outputs": [
    {
     "name": "stdout",
     "output_type": "stream",
     "text": [
      "Epoch 1/25\n",
      "1240/1240 [==============================] - 20s 16ms/sample - loss: 0.1251 - mae: 0.4279\n",
      "Epoch 2/25\n",
      "1240/1240 [==============================] - 0s 237us/sample - loss: 0.0531 - mae: 0.3019\n",
      "Epoch 3/25\n",
      "1240/1240 [==============================] - 0s 224us/sample - loss: 0.0233 - mae: 0.2046\n",
      "Epoch 4/25\n",
      "1240/1240 [==============================] - 0s 40us/sample - loss: 0.0141 - mae: 0.1368\n",
      "Epoch 5/25\n",
      "1240/1240 [==============================] - 0s 40us/sample - loss: 0.0109 - mae: 0.1098\n",
      "Epoch 6/25\n",
      "1240/1240 [==============================] - 0s 40us/sample - loss: 0.0072 - mae: 0.0854\n",
      "Epoch 7/25\n",
      "1240/1240 [==============================] - 0s 40us/sample - loss: 0.0033 - mae: 0.0551\n",
      "Epoch 8/25\n",
      "1240/1240 [==============================] - 0s 39us/sample - loss: 0.0010 - mae: 0.0320\n",
      "Epoch 9/25\n",
      "1240/1240 [==============================] - 0s 52us/sample - loss: 5.3943e-04 - mae: 0.0274\n",
      "Epoch 10/25\n",
      "1240/1240 [==============================] - 0s 40us/sample - loss: 4.5003e-04 - mae: 0.0258\n",
      "Epoch 11/25\n",
      "1240/1240 [==============================] - 0s 164us/sample - loss: 3.0964e-04 - mae: 0.0209\n",
      "Epoch 12/25\n",
      "1240/1240 [==============================] - 0s 101us/sample - loss: 3.2512e-04 - mae: 0.0213\n",
      "Epoch 13/25\n",
      "1240/1240 [==============================] - 0s 97us/sample - loss: 3.1203e-04 - mae: 0.0212\n",
      "Epoch 14/25\n",
      "1240/1240 [==============================] - 0s 100us/sample - loss: 2.7362e-04 - mae: 0.0196\n",
      "Epoch 15/25\n",
      "1240/1240 [==============================] - 0s 106us/sample - loss: 2.9220e-04 - mae: 0.0204\n",
      "Epoch 16/25\n",
      "1240/1240 [==============================] - 0s 113us/sample - loss: 2.4126e-04 - mae: 0.0182\n",
      "Epoch 17/25\n",
      "1240/1240 [==============================] - 0s 103us/sample - loss: 2.7692e-04 - mae: 0.0198\n",
      "Epoch 18/25\n",
      "1240/1240 [==============================] - 0s 101us/sample - loss: 2.3021e-04 - mae: 0.0179\n"
     ]
    },
    {
     "data": {
      "text/plain": [
       "<tensorflow.python.keras.callbacks.History at 0x7facbda85588>"
      ]
     },
     "execution_count": 423,
     "metadata": {},
     "output_type": "execute_result"
    }
   ],
   "source": [
    "model.fit(x_train, y_train, epochs=25, batch_size=100, callbacks=[es, rlr])"
   ]
  },
  {
   "cell_type": "code",
   "execution_count": null,
   "metadata": {},
   "outputs": [],
   "source": []
  },
  {
   "cell_type": "code",
   "execution_count": null,
   "metadata": {},
   "outputs": [],
   "source": []
  },
  {
   "cell_type": "code",
   "execution_count": null,
   "metadata": {},
   "outputs": [],
   "source": []
  },
  {
   "cell_type": "code",
   "execution_count": 424,
   "metadata": {},
   "outputs": [],
   "source": [
    "pred = model.predict(x_test)"
   ]
  },
  {
   "cell_type": "code",
   "execution_count": 425,
   "metadata": {},
   "outputs": [],
   "source": [
    "pred = scaler_target.inverse_transform(pred)"
   ]
  },
  {
   "cell_type": "code",
   "execution_count": 426,
   "metadata": {},
   "outputs": [
    {
     "data": {
      "text/plain": [
       "7.23518838468071"
      ]
     },
     "execution_count": 426,
     "metadata": {},
     "output_type": "execute_result"
    }
   ],
   "source": [
    "metrics.mean_absolute_error(y_test, pred)"
   ]
  },
  {
   "cell_type": "code",
   "execution_count": null,
   "metadata": {},
   "outputs": [],
   "source": [
    "plt.figure(figsize=(20, 8))\n",
    "plt.plot(test.index, y_test, color='blue', label='Preço Real', linestyle='-', marker='o')\n",
    "plt.plot(test.index, pred, color='red', label='Previsão', linestyle='--', marker='o')\n",
    "\n",
    "plt.legend(loc='upper left', prop={'size':18})\n",
    "plt.xlabel('Data', fontdict={'size':20})\n",
    "plt.ylabel('Preço', fontdict={'size':20})\n",
    "plt.xticks(rotation='60')\n",
    "plt.grid(axis='y')"
   ]
  },
  {
   "cell_type": "code",
   "execution_count": null,
   "metadata": {},
   "outputs": [],
   "source": []
  },
  {
   "cell_type": "code",
   "execution_count": null,
   "metadata": {},
   "outputs": [],
   "source": []
  },
  {
   "cell_type": "code",
   "execution_count": null,
   "metadata": {},
   "outputs": [],
   "source": []
  }
 ],
 "metadata": {
  "kernelspec": {
   "display_name": "Python 3",
   "language": "python",
   "name": "python3"
  },
  "language_info": {
   "codemirror_mode": {
    "name": "ipython",
    "version": 3
   },
   "file_extension": ".py",
   "mimetype": "text/x-python",
   "name": "python",
   "nbconvert_exporter": "python",
   "pygments_lexer": "ipython3",
   "version": "3.7.0"
  }
 },
 "nbformat": 4,
 "nbformat_minor": 2
}
